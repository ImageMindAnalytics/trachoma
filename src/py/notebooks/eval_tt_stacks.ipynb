{
 "cells": [
  {
   "cell_type": "code",
   "execution_count": 3,
   "id": "3136f529-dfd8-45bb-8302-49d1e742b387",
   "metadata": {},
   "outputs": [],
   "source": [
    "import pandas as pd\n",
    "import numpy as np\n",
    "import seaborn as sns\n",
    "from sklearn.metrics import confusion_matrix\n",
    "from sklearn.metrics import roc_curve, auc\n",
    "from sklearn.metrics import classification_report\n",
    "import matplotlib.pyplot as plt"
   ]
  },
  {
   "cell_type": "code",
   "execution_count": 4,
   "id": "4032214d-02a9-4b78-ac55-30538694a73a",
   "metadata": {},
   "outputs": [
    {
     "name": "stdout",
     "output_type": "stream",
     "text": [
      "                                                   img  \\\n",
      "0    /work/jprieto/data/remote/EGower/jprieto/trach...   \n",
      "1    /work/jprieto/data/remote/EGower/jprieto/trach...   \n",
      "2    /work/jprieto/data/remote/EGower/jprieto/trach...   \n",
      "3    /work/jprieto/data/remote/EGower/jprieto/trach...   \n",
      "4    /work/jprieto/data/remote/EGower/jprieto/trach...   \n",
      "..                                                 ...   \n",
      "398  /work/jprieto/data/remote/EGower/jprieto/trach...   \n",
      "399  /work/jprieto/data/remote/EGower/jprieto/trach...   \n",
      "400  /work/jprieto/data/remote/EGower/jprieto/trach...   \n",
      "401  /work/jprieto/data/remote/EGower/jprieto/trach...   \n",
      "402  /work/jprieto/data/remote/EGower/jprieto/trach...   \n",
      "\n",
      "                                                  orig  class  severity_class  \\\n",
      "0    /work/jprieto/data/remote/EGower/jprieto/eyes_...      1               3   \n",
      "1    /work/jprieto/data/remote/EGower/jprieto/eyes_...      1               3   \n",
      "2    /work/jprieto/data/remote/EGower/jprieto/eyes_...      1               3   \n",
      "3    /work/jprieto/data/remote/EGower/jprieto/eyes_...      1               3   \n",
      "4    /work/jprieto/data/remote/EGower/jprieto/eyes_...      1               3   \n",
      "..                                                 ...    ...             ...   \n",
      "398  /work/jprieto/data/remote/EGower/jprieto/eyes_...      1               1   \n",
      "399  /work/jprieto/data/remote/EGower/jprieto/eyes_...      1               1   \n",
      "400  /work/jprieto/data/remote/EGower/jprieto/eyes_...      1               1   \n",
      "401  /work/jprieto/data/remote/EGower/jprieto/eyes_...      1               1   \n",
      "402  /work/jprieto/data/remote/EGower/jprieto/eyes_...      1               1   \n",
      "\n",
      "     prediction  \n",
      "0             1  \n",
      "1             1  \n",
      "2             1  \n",
      "3             1  \n",
      "4             1  \n",
      "..          ...  \n",
      "398           1  \n",
      "399           1  \n",
      "400           1  \n",
      "401           0  \n",
      "402           1  \n",
      "\n",
      "[403 rows x 5 columns]\n"
     ]
    }
   ],
   "source": [
    "df = pd.read_csv('/work/jprieto/data/remote/EGower/jprieto/trachoma_normals_healthy_sev123_05182021_stack_32_384_test_prediction.csv')\n",
    "\n",
    "csv_true_column = 'class'\n",
    "csv_prediction_column = 'prediction'\n",
    "\n",
    "df[csv_true_column] = (df[csv_true_column] >= 1).astype(int)\n",
    "df[csv_prediction_column] = df[csv_prediction_column].astype(int)\n",
    "\n",
    "\n",
    "print(df)"
   ]
  },
  {
   "cell_type": "code",
   "execution_count": 5,
   "id": "932ded2b-641e-4677-83cf-3861a3ed5f90",
   "metadata": {},
   "outputs": [],
   "source": [
    "y_true_arr = [] \n",
    "y_pred_arr = []\n",
    "for idx, row in df.iterrows():\n",
    "  y_true_arr.append(row[csv_true_column])\n",
    "  y_pred_arr.append(row[csv_prediction_column])"
   ]
  },
  {
   "cell_type": "code",
   "execution_count": 6,
   "id": "86a3b5a8-0780-421d-878a-01d3a35302ee",
   "metadata": {},
   "outputs": [
    {
     "name": "stdout",
     "output_type": "stream",
     "text": [
      "[[ 90  19]\n",
      " [ 20 274]]\n"
     ]
    }
   ],
   "source": [
    "cnf_matrix = confusion_matrix(y_true_arr, y_pred_arr)\n",
    "print(cnf_matrix)"
   ]
  },
  {
   "cell_type": "code",
   "execution_count": 7,
   "id": "d2787620-dce5-4512-8d4f-f2a7bf5575af",
   "metadata": {},
   "outputs": [
    {
     "name": "stdout",
     "output_type": "stream",
     "text": [
      "[[0.82568807 0.17431193]\n",
      " [0.06802721 0.93197279]]\n"
     ]
    }
   ],
   "source": [
    "cnf_matrix_norm = cnf_matrix.astype('float') / cnf_matrix.sum(axis=1)[:, np.newaxis]\n",
    "print(cnf_matrix_norm)"
   ]
  },
  {
   "cell_type": "code",
   "execution_count": 8,
   "id": "37edc706-3705-454e-a803-ccc751ce05c9",
   "metadata": {},
   "outputs": [
    {
     "data": {
      "text/plain": [
       "<AxesSubplot:>"
      ]
     },
     "execution_count": 8,
     "metadata": {},
     "output_type": "execute_result"
    },
    {
     "data": {
      "image/png": "[encoded data removed]",
      "text/plain": [
       "<Figure size 1080x1080 with 2 Axes>"
      ]
     },
     "metadata": {
      "needs_background": "light"
     },
     "output_type": "display_data"
    }
   ],
   "source": [
    "f, ax = plt.subplots(figsize=(15, 15))\n",
    "cmap = sns.color_palette(\"coolwarm\", as_cmap=True)\n",
    "sns.heatmap(cnf_matrix_norm, cmap=cmap, annot=True, vmax=1.0, center=0, square=True, linewidths=.5)"
   ]
  },
  {
   "cell_type": "code",
   "execution_count": 9,
   "id": "53a4a47f-6a8a-4912-9ab5-a65a3d269820",
   "metadata": {},
   "outputs": [
    {
     "name": "stdout",
     "output_type": "stream",
     "text": [
      "              precision    recall  f1-score   support\n",
      "\n",
      "           0       0.82      0.83      0.82       109\n",
      "           1       0.94      0.93      0.93       294\n",
      "\n",
      "    accuracy                           0.90       403\n",
      "   macro avg       0.88      0.88      0.88       403\n",
      "weighted avg       0.90      0.90      0.90       403\n",
      "\n"
     ]
    }
   ],
   "source": [
    "print(classification_report(y_true_arr, y_pred_arr))"
   ]
  },
  {
   "cell_type": "code",
   "execution_count": null,
   "id": "913a2bcb-a05a-4e86-8a86-72ac18e327da",
   "metadata": {},
   "outputs": [],
   "source": []
  }
 ],
 "metadata": {
  "kernelspec": {
   "display_name": "Python 3 (ipykernel)",
   "language": "python",
   "name": "python3"
  },
  "language_info": {
   "codemirror_mode": {
    "name": "ipython",
    "version": 3
   },
   "file_extension": ".py",
   "mimetype": "text/x-python",
   "name": "python",
   "nbconvert_exporter": "python",
   "pygments_lexer": "ipython3",
   "version": "3.9.6"
  }
 },
 "nbformat": 4,
 "nbformat_minor": 5
}
