{
 "cells": [
  {
   "cell_type": "code",
   "execution_count": 1,
   "id": "3136f529-dfd8-45bb-8302-49d1e742b387",
   "metadata": {},
   "outputs": [],
   "source": [
    "import pandas as pd\n",
    "import numpy as np\n",
    "import seaborn as sns\n",
    "from sklearn.metrics import confusion_matrix\n",
    "from sklearn.metrics import roc_curve, auc\n",
    "from sklearn.metrics import classification_report\n",
    "import matplotlib.pyplot as plt\n",
    "import pickle\n",
    "from sklearn.manifold import TSNE\n",
    "from sklearn.decomposition import PCA\n",
    "import plotly.graph_objects as go\n",
    "import plotly.express as px\n",
    "from plotly.subplots import make_subplots\n",
    "from scipy import signal\n",
    "import nrrd"
   ]
  },
  {
   "cell_type": "code",
   "execution_count": 2,
   "id": "bc1bceae-8e64-4214-82a1-98392a47de04",
   "metadata": {},
   "outputs": [],
   "source": [
    "fname = '/work/jprieto/data/remote/EGower/test_output/patch_training_mlp_11082021.pickle'\n",
    "\n",
    "df = pd.read_pickle(fname)\n"
   ]
  },
  {
   "cell_type": "code",
   "execution_count": 3,
   "id": "6cd103f5-3b2f-47ba-a85a-13ed18869d79",
   "metadata": {},
   "outputs": [],
   "source": [
    "prediction = np.array(list(df[\"prediction\"]))\n",
    "prediction = np.argmax(prediction, axis=1)\n",
    "df['prediction'] = prediction\n",
    "csv_true_column = 'patch_class'\n",
    "csv_prediction_column = 'prediction'"
   ]
  },
  {
   "cell_type": "code",
   "execution_count": 4,
   "id": "5361dcd8-9c06-47e4-8637-8ec5346e956a",
   "metadata": {},
   "outputs": [],
   "source": [
    "y_true_arr = [] \n",
    "y_pred_arr = []\n",
    "for idx, row in df.iterrows():\n",
    "  y_true_arr.append(row[csv_true_column])\n",
    "  y_pred_arr.append(row[csv_prediction_column])"
   ]
  },
  {
   "cell_type": "code",
   "execution_count": 5,
   "id": "d5e7b9f5-fb1e-45e3-984d-7ba085ba3e66",
   "metadata": {},
   "outputs": [
    {
     "name": "stdout",
     "output_type": "stream",
     "text": [
      "[[4155  637  569]\n",
      " [  87 3110  141]\n",
      " [  23   76  838]]\n",
      "[[0.77504197 0.11882112 0.10613691]\n",
      " [0.02606351 0.93169563 0.04224086]\n",
      " [0.02454642 0.08110993 0.89434365]]\n",
      "              precision    recall  f1-score   support\n",
      "\n",
      "           0       0.97      0.78      0.86      5361\n",
      "           1       0.81      0.93      0.87      3338\n",
      "           2       0.54      0.89      0.67       937\n",
      "\n",
      "    accuracy                           0.84      9636\n",
      "   macro avg       0.78      0.87      0.80      9636\n",
      "weighted avg       0.88      0.84      0.85      9636\n",
      "\n"
     ]
    }
   ],
   "source": [
    "cnf_matrix = confusion_matrix(y_true_arr, y_pred_arr)\n",
    "print(cnf_matrix)\n",
    "cnf_matrix_norm = cnf_matrix.astype('float') / cnf_matrix.sum(axis=1)[:, np.newaxis]\n",
    "print(cnf_matrix_norm)\n",
    "print(classification_report(y_true_arr, y_pred_arr))"
   ]
  },
  {
   "cell_type": "code",
   "execution_count": 6,
   "id": "0ad15182-32ce-4c44-9faf-6c44f022c6bd",
   "metadata": {},
   "outputs": [
    {
     "data": {
      "image/png": "[encoded data removed]",
      "text/plain": [
       "<Figure size 1080x720 with 2 Axes>"
      ]
     },
     "metadata": {
      "needs_background": "light"
     },
     "output_type": "display_data"
    }
   ],
   "source": [
    "plt.figure(figsize=[15,10])\n",
    "sns.heatmap(cnf_matrix_norm, annot=True, fmt='.2%', cmap='Blues')\n",
    "plt.show()"
   ]
  },
  {
   "cell_type": "code",
   "execution_count": null,
   "id": "f289a2e3-42ed-4948-87c2-ed8fd765405c",
   "metadata": {},
   "outputs": [],
   "source": []
  }
 ],
 "metadata": {
  "kernelspec": {
   "display_name": "Python 3 (ipykernel)",
   "language": "python",
   "name": "python3"
  },
  "language_info": {
   "codemirror_mode": {
    "name": "ipython",
    "version": 3
   },
   "file_extension": ".py",
   "mimetype": "text/x-python",
   "name": "python",
   "nbconvert_exporter": "python",
   "pygments_lexer": "ipython3",
   "version": "3.9.7"
  }
 },
 "nbformat": 4,
 "nbformat_minor": 5
}
