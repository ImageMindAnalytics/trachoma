{
 "cells": [
  {
   "cell_type": "code",
   "execution_count": 1,
   "id": "3136f529-dfd8-45bb-8302-49d1e742b387",
   "metadata": {},
   "outputs": [],
   "source": [
    "import os\n",
    "import pandas as pd\n",
    "import numpy as np\n",
    "import seaborn as sns\n",
    "from sklearn.metrics import confusion_matrix\n",
    "from sklearn.metrics import roc_curve, auc\n",
    "from sklearn.metrics import classification_report\n",
    "import matplotlib.pyplot as plt\n",
    "import pickle\n",
    "from sklearn.manifold import TSNE\n",
    "from sklearn.decomposition import PCA\n",
    "import plotly.graph_objects as go\n",
    "import plotly.express as px\n",
    "from plotly.subplots import make_subplots\n",
    "from scipy import signal\n",
    "import nrrd\n",
    "from PIL import Image"
   ]
  },
  {
   "cell_type": "code",
   "execution_count": 2,
   "id": "6161507d-3829-4c54-85e5-ad2a7935cb69",
   "metadata": {},
   "outputs": [
    {
     "name": "stdout",
     "output_type": "stream",
     "text": [
      "(926, 2)\n",
      "(926, 16, 256)\n",
      "(926, 16, 1)\n",
      "(926, 16, 2)\n"
     ]
    }
   ],
   "source": [
    "csv_path_stacks = \"/work/jprieto/data/remote/EGower/hinashah/Analysis_Set_11012021/trachoma_normals_healthy_sev123_epi_stacks_16_544_test.csv\"\n",
    "\n",
    "df_stacks = pd.read_csv(csv_path_stacks)\n",
    "df_stacks['class'] = (df_stacks['class'] >= 1).astype(int)\n",
    "\n",
    "output_dir = \"/work/jprieto/data/remote/EGower/jprieto/test_output/\"\n",
    "\n",
    "\n",
    "with open(os.path.join(output_dir, 'trachoma_normals_healthy_sev123_epi_stacks_16_544_test_10122021.pickle'), 'rb') as f:\n",
    "    results_stacks = pickle.load(f)\n",
    "\n",
    "pred_np, x_a_np, x_v_np, scores_np, x_v_pred_np = results_stacks\n",
    "    \n",
    "pred_np = np.array(pred_np)\n",
    "x_a_np = np.array(x_a_np)\n",
    "x_v_np = np.array(x_v_np)\n",
    "scores_np = np.array(scores_np)\n",
    "x_v_pred_np = np.array(x_v_pred_np)\n",
    "\n",
    "print(pred_np.shape)\n",
    "print(x_v_np.shape)\n",
    "print(scores_np.shape)\n",
    "print(x_v_pred_np.shape)\n",
    "\n",
    "# results_epi.drop(results_epi[results_epi['patch_class'].isin(['Probable Epilation', 'Probable TT'])].index, inplace = True)\n",
    "# results_epi = results_epi.reset_index()\n",
    "# results_epi = results_epi.replace({'Healthy': 0, 'TT': 1, 'Epilation': 2})"
   ]
  },
  {
   "cell_type": "code",
   "execution_count": 3,
   "id": "165cbfd7-f109-48b5-b2d3-86b72d56156e",
   "metadata": {},
   "outputs": [],
   "source": [
    "df_stacks[\"pred\"] = np.argmax(pred_np, axis=1)\n",
    "df_stacks[\"score\"] = np.max(scores_np, axis=1)\n"
   ]
  },
  {
   "cell_type": "code",
   "execution_count": 5,
   "id": "5361dcd8-9c06-47e4-8637-8ec5346e956a",
   "metadata": {},
   "outputs": [],
   "source": [
    "csv_true_column = \"class\"\n",
    "csv_prediction_column = \"pred\"\n",
    "y_true_arr = [] \n",
    "y_pred_arr = []\n",
    "for idx, row in df_stacks.iterrows():\n",
    "  y_true_arr.append(row[csv_true_column])\n",
    "  y_pred_arr.append(row[csv_prediction_column])\n"
   ]
  },
  {
   "cell_type": "code",
   "execution_count": 6,
   "id": "d5e7b9f5-fb1e-45e3-984d-7ba085ba3e66",
   "metadata": {},
   "outputs": [
    {
     "name": "stdout",
     "output_type": "stream",
     "text": [
      "[[166  10]\n",
      " [133 617]]\n",
      "[[0.94318182 0.05681818]\n",
      " [0.17733333 0.82266667]]\n",
      "              precision    recall  f1-score   support\n",
      "\n",
      "           0       0.56      0.94      0.70       176\n",
      "           1       0.98      0.82      0.90       750\n",
      "\n",
      "    accuracy                           0.85       926\n",
      "   macro avg       0.77      0.88      0.80       926\n",
      "weighted avg       0.90      0.85      0.86       926\n",
      "\n"
     ]
    }
   ],
   "source": [
    "cnf_matrix = confusion_matrix(y_true_arr, y_pred_arr)\n",
    "print(cnf_matrix)\n",
    "cnf_matrix_norm = cnf_matrix.astype('float') / cnf_matrix.sum(axis=1)[:, np.newaxis]\n",
    "print(cnf_matrix_norm)\n",
    "print(classification_report(y_true_arr, y_pred_arr))"
   ]
  },
  {
   "cell_type": "code",
   "execution_count": 7,
   "id": "0ad15182-32ce-4c44-9faf-6c44f022c6bd",
   "metadata": {},
   "outputs": [
    {
     "data": {
      "image/png": "[encoded data removed]",
      "text/plain": [
       "<Figure size 1080x720 with 2 Axes>"
      ]
     },
     "metadata": {
      "needs_background": "light"
     },
     "output_type": "display_data"
    }
   ],
   "source": [
    "plt.figure(figsize=[15,10])\n",
    "sns.heatmap(cnf_matrix_norm, annot=True, fmt='.2%', cmap='Blues')\n",
    "plt.show()"
   ]
  },
  {
   "cell_type": "code",
   "execution_count": 8,
   "id": "5ea5c1ea-c2b1-4a56-9181-de501531cec9",
   "metadata": {},
   "outputs": [
    {
     "ename": "ValueError",
     "evalue": "Found array with dim 3. Estimator expected <= 2.",
     "output_type": "error",
     "traceback": [
      "\u001b[0;31m---------------------------------------------------------------------------\u001b[0m",
      "\u001b[0;31mValueError\u001b[0m                                Traceback (most recent call last)",
      "\u001b[0;32m/tmp/ipykernel_20899/3013662235.py\u001b[0m in \u001b[0;36m<module>\u001b[0;34m\u001b[0m\n\u001b[1;32m      1\u001b[0m \u001b[0mpca\u001b[0m \u001b[0;34m=\u001b[0m \u001b[0mPCA\u001b[0m\u001b[0;34m(\u001b[0m\u001b[0mn_components\u001b[0m\u001b[0;34m=\u001b[0m\u001b[0;36m2\u001b[0m\u001b[0;34m)\u001b[0m\u001b[0;34m\u001b[0m\u001b[0;34m\u001b[0m\u001b[0m\n\u001b[0;32m----> 2\u001b[0;31m \u001b[0mpca_fit\u001b[0m \u001b[0;34m=\u001b[0m \u001b[0mpca\u001b[0m\u001b[0;34m.\u001b[0m\u001b[0mfit_transform\u001b[0m\u001b[0;34m(\u001b[0m\u001b[0mx_v_np\u001b[0m\u001b[0;34m)\u001b[0m\u001b[0;34m\u001b[0m\u001b[0;34m\u001b[0m\u001b[0m\n\u001b[0m\u001b[1;32m      3\u001b[0m \u001b[0mdf_stacks\u001b[0m\u001b[0;34m[\u001b[0m\u001b[0;34m\"pca_0\"\u001b[0m\u001b[0;34m]\u001b[0m \u001b[0;34m=\u001b[0m \u001b[0mpca_fit\u001b[0m\u001b[0;34m[\u001b[0m\u001b[0;34m:\u001b[0m\u001b[0;34m,\u001b[0m\u001b[0;36m0\u001b[0m\u001b[0;34m]\u001b[0m\u001b[0;34m\u001b[0m\u001b[0;34m\u001b[0m\u001b[0m\n\u001b[1;32m      4\u001b[0m \u001b[0mdf_stacks\u001b[0m\u001b[0;34m[\u001b[0m\u001b[0;34m\"pca_1\"\u001b[0m\u001b[0;34m]\u001b[0m \u001b[0;34m=\u001b[0m \u001b[0mpca_fit\u001b[0m\u001b[0;34m[\u001b[0m\u001b[0;34m:\u001b[0m\u001b[0;34m,\u001b[0m\u001b[0;36m1\u001b[0m\u001b[0;34m]\u001b[0m\u001b[0;34m\u001b[0m\u001b[0;34m\u001b[0m\u001b[0m\n",
      "\u001b[0;32m/work/jprieto/install/anaconda3/envs/tt/lib/python3.9/site-packages/sklearn/decomposition/_pca.py\u001b[0m in \u001b[0;36mfit_transform\u001b[0;34m(self, X, y)\u001b[0m\n\u001b[1;32m    381\u001b[0m         \u001b[0mC\u001b[0m\u001b[0;34m-\u001b[0m\u001b[0mordered\u001b[0m \u001b[0marray\u001b[0m\u001b[0;34m,\u001b[0m \u001b[0muse\u001b[0m \u001b[0;34m'np.ascontiguousarray'\u001b[0m\u001b[0;34m.\u001b[0m\u001b[0;34m\u001b[0m\u001b[0;34m\u001b[0m\u001b[0m\n\u001b[1;32m    382\u001b[0m         \"\"\"\n\u001b[0;32m--> 383\u001b[0;31m         \u001b[0mU\u001b[0m\u001b[0;34m,\u001b[0m \u001b[0mS\u001b[0m\u001b[0;34m,\u001b[0m \u001b[0mVt\u001b[0m \u001b[0;34m=\u001b[0m \u001b[0mself\u001b[0m\u001b[0;34m.\u001b[0m\u001b[0m_fit\u001b[0m\u001b[0;34m(\u001b[0m\u001b[0mX\u001b[0m\u001b[0;34m)\u001b[0m\u001b[0;34m\u001b[0m\u001b[0;34m\u001b[0m\u001b[0m\n\u001b[0m\u001b[1;32m    384\u001b[0m         \u001b[0mU\u001b[0m \u001b[0;34m=\u001b[0m \u001b[0mU\u001b[0m\u001b[0;34m[\u001b[0m\u001b[0;34m:\u001b[0m\u001b[0;34m,\u001b[0m \u001b[0;34m:\u001b[0m\u001b[0mself\u001b[0m\u001b[0;34m.\u001b[0m\u001b[0mn_components_\u001b[0m\u001b[0;34m]\u001b[0m\u001b[0;34m\u001b[0m\u001b[0;34m\u001b[0m\u001b[0m\n\u001b[1;32m    385\u001b[0m \u001b[0;34m\u001b[0m\u001b[0m\n",
      "\u001b[0;32m/work/jprieto/install/anaconda3/envs/tt/lib/python3.9/site-packages/sklearn/decomposition/_pca.py\u001b[0m in \u001b[0;36m_fit\u001b[0;34m(self, X)\u001b[0m\n\u001b[1;32m    402\u001b[0m                             'TruncatedSVD for a possible alternative.')\n\u001b[1;32m    403\u001b[0m \u001b[0;34m\u001b[0m\u001b[0m\n\u001b[0;32m--> 404\u001b[0;31m         X = self._validate_data(X, dtype=[np.float64, np.float32],\n\u001b[0m\u001b[1;32m    405\u001b[0m                                 ensure_2d=True, copy=self.copy)\n\u001b[1;32m    406\u001b[0m \u001b[0;34m\u001b[0m\u001b[0m\n",
      "\u001b[0;32m/work/jprieto/install/anaconda3/envs/tt/lib/python3.9/site-packages/sklearn/base.py\u001b[0m in \u001b[0;36m_validate_data\u001b[0;34m(self, X, y, reset, validate_separately, **check_params)\u001b[0m\n\u001b[1;32m    419\u001b[0m             \u001b[0mout\u001b[0m \u001b[0;34m=\u001b[0m \u001b[0mX\u001b[0m\u001b[0;34m\u001b[0m\u001b[0;34m\u001b[0m\u001b[0m\n\u001b[1;32m    420\u001b[0m         \u001b[0;32melif\u001b[0m \u001b[0misinstance\u001b[0m\u001b[0;34m(\u001b[0m\u001b[0my\u001b[0m\u001b[0;34m,\u001b[0m \u001b[0mstr\u001b[0m\u001b[0;34m)\u001b[0m \u001b[0;32mand\u001b[0m \u001b[0my\u001b[0m \u001b[0;34m==\u001b[0m \u001b[0;34m'no_validation'\u001b[0m\u001b[0;34m:\u001b[0m\u001b[0;34m\u001b[0m\u001b[0;34m\u001b[0m\u001b[0m\n\u001b[0;32m--> 421\u001b[0;31m             \u001b[0mX\u001b[0m \u001b[0;34m=\u001b[0m \u001b[0mcheck_array\u001b[0m\u001b[0;34m(\u001b[0m\u001b[0mX\u001b[0m\u001b[0;34m,\u001b[0m \u001b[0;34m**\u001b[0m\u001b[0mcheck_params\u001b[0m\u001b[0;34m)\u001b[0m\u001b[0;34m\u001b[0m\u001b[0;34m\u001b[0m\u001b[0m\n\u001b[0m\u001b[1;32m    422\u001b[0m             \u001b[0mout\u001b[0m \u001b[0;34m=\u001b[0m \u001b[0mX\u001b[0m\u001b[0;34m\u001b[0m\u001b[0;34m\u001b[0m\u001b[0m\n\u001b[1;32m    423\u001b[0m         \u001b[0;32melse\u001b[0m\u001b[0;34m:\u001b[0m\u001b[0;34m\u001b[0m\u001b[0;34m\u001b[0m\u001b[0m\n",
      "\u001b[0;32m/work/jprieto/install/anaconda3/envs/tt/lib/python3.9/site-packages/sklearn/utils/validation.py\u001b[0m in \u001b[0;36minner_f\u001b[0;34m(*args, **kwargs)\u001b[0m\n\u001b[1;32m     61\u001b[0m             \u001b[0mextra_args\u001b[0m \u001b[0;34m=\u001b[0m \u001b[0mlen\u001b[0m\u001b[0;34m(\u001b[0m\u001b[0margs\u001b[0m\u001b[0;34m)\u001b[0m \u001b[0;34m-\u001b[0m \u001b[0mlen\u001b[0m\u001b[0;34m(\u001b[0m\u001b[0mall_args\u001b[0m\u001b[0;34m)\u001b[0m\u001b[0;34m\u001b[0m\u001b[0;34m\u001b[0m\u001b[0m\n\u001b[1;32m     62\u001b[0m             \u001b[0;32mif\u001b[0m \u001b[0mextra_args\u001b[0m \u001b[0;34m<=\u001b[0m \u001b[0;36m0\u001b[0m\u001b[0;34m:\u001b[0m\u001b[0;34m\u001b[0m\u001b[0;34m\u001b[0m\u001b[0m\n\u001b[0;32m---> 63\u001b[0;31m                 \u001b[0;32mreturn\u001b[0m \u001b[0mf\u001b[0m\u001b[0;34m(\u001b[0m\u001b[0;34m*\u001b[0m\u001b[0margs\u001b[0m\u001b[0;34m,\u001b[0m \u001b[0;34m**\u001b[0m\u001b[0mkwargs\u001b[0m\u001b[0;34m)\u001b[0m\u001b[0;34m\u001b[0m\u001b[0;34m\u001b[0m\u001b[0m\n\u001b[0m\u001b[1;32m     64\u001b[0m \u001b[0;34m\u001b[0m\u001b[0m\n\u001b[1;32m     65\u001b[0m             \u001b[0;31m# extra_args > 0\u001b[0m\u001b[0;34m\u001b[0m\u001b[0;34m\u001b[0m\u001b[0m\n",
      "\u001b[0;32m/work/jprieto/install/anaconda3/envs/tt/lib/python3.9/site-packages/sklearn/utils/validation.py\u001b[0m in \u001b[0;36mcheck_array\u001b[0;34m(array, accept_sparse, accept_large_sparse, dtype, order, copy, force_all_finite, ensure_2d, allow_nd, ensure_min_samples, ensure_min_features, estimator)\u001b[0m\n\u001b[1;32m    714\u001b[0m                     \"into decimal numbers with dtype='numeric'\") from e\n\u001b[1;32m    715\u001b[0m         \u001b[0;32mif\u001b[0m \u001b[0;32mnot\u001b[0m \u001b[0mallow_nd\u001b[0m \u001b[0;32mand\u001b[0m \u001b[0marray\u001b[0m\u001b[0;34m.\u001b[0m\u001b[0mndim\u001b[0m \u001b[0;34m>=\u001b[0m \u001b[0;36m3\u001b[0m\u001b[0;34m:\u001b[0m\u001b[0;34m\u001b[0m\u001b[0;34m\u001b[0m\u001b[0m\n\u001b[0;32m--> 716\u001b[0;31m             raise ValueError(\"Found array with dim %d. %s expected <= 2.\"\n\u001b[0m\u001b[1;32m    717\u001b[0m                              % (array.ndim, estimator_name))\n\u001b[1;32m    718\u001b[0m \u001b[0;34m\u001b[0m\u001b[0m\n",
      "\u001b[0;31mValueError\u001b[0m: Found array with dim 3. Estimator expected <= 2."
     ]
    }
   ],
   "source": [
    "pca = PCA(n_components=2)\n",
    "pca_fit = pca.fit_transform(x_v_np)\n",
    "df_stacks[\"pca_0\"] = pca_fit[:,0]\n",
    "df_stacks[\"pca_1\"] = pca_fit[:,1]"
   ]
  },
  {
   "cell_type": "code",
   "execution_count": null,
   "id": "fde538ab-b117-465a-b41f-556a2ade3e13",
   "metadata": {},
   "outputs": [],
   "source": [
    "fig = go.Figure()\n",
    "fig.add_trace(go.Scatter(x=df_stacks[\"pca_0\"], y=df_stacks[\"pca_1\"], mode='markers', text=df_stacks[\"pred\"], marker=dict(color=df_stacks[\"class\"], size=(df_stacks[\"pred\"]+1)*5, showscale=True)))\n",
    "fig.update_layout(\n",
    "    autosize=False,\n",
    "    width=1200,\n",
    "    height=800\n",
    ")\n",
    "fig"
   ]
  },
  {
   "cell_type": "code",
   "execution_count": null,
   "id": "a363d177-904b-4499-b109-fd66ca13cbf6",
   "metadata": {},
   "outputs": [],
   "source": [
    "df_miss_classified = df_stacks.query(\"pred != class\")\n",
    "df_classified = df_stacks.query(\"pred == class\")\n",
    "df_tt = df_stacks.query(\"class > 0 and pred == 0\")\n",
    "\n",
    "fig = go.FigureWidget(make_subplots(rows=1, cols=3, column_widths=[0.33, 0.33, 0.33], specs=[[{}, {}, {}]]))\n",
    "\n",
    "fig.add_trace(go.Scatter(x=df_miss_classified[\"pca_0\"], y=df_miss_classified[\"pca_1\"], mode='markers', text=df_miss_classified[\"score\"], marker=dict(color=df_miss_classified[\"score\"], showscale=False, cmin=0, cmax=1)), row=1, col=1)\n",
    "fig.add_trace(go.Scatter(x=df_classified[\"pca_0\"], y=df_classified[\"pca_1\"], mode='markers', text=df_classified[\"score\"], marker=dict(color=df_classified[\"score\"], showscale=False, cmin=0, cmax=1)), row=1, col=2)\n",
    "fig.add_trace(go.Scatter(x=df_tt[\"pca_0\"], y=df_tt[\"pca_1\"], mode='markers', text=df_tt[\"score\"], marker=dict(color=df_tt[\"score\"], showscale=True, cmin=0, cmax=1)), row=1, col=3)\n",
    "\n",
    "\n",
    "fig.update_layout(\n",
    "    autosize=False,\n",
    "    width=1500,\n",
    "    height=600\n",
    ")\n",
    "fig"
   ]
  },
  {
   "cell_type": "code",
   "execution_count": null,
   "id": "ac5b3308-6a3b-48d7-8200-b3fd25714f04",
   "metadata": {},
   "outputs": [],
   "source": [
    "print(df_miss_classified[\"score\"].describe())\n",
    "print(df_classified[\"score\"].describe())\n",
    "print(df_tt[\"score\"].describe())"
   ]
  },
  {
   "cell_type": "code",
   "execution_count": null,
   "id": "72cecec4-fb66-42b4-9788-bbb9ad9e0eae",
   "metadata": {},
   "outputs": [],
   "source": [
    "df_healthy = df_stacks.query(\"patch_class == 0\")\n",
    "df_healthy[\"score\"].describe()"
   ]
  },
  {
   "cell_type": "code",
   "execution_count": null,
   "id": "ab2afca1-43a1-42db-af83-0494834599f8",
   "metadata": {},
   "outputs": [],
   "source": [
    "fig = go.FigureWidget(make_subplots(rows=2, cols=2, column_widths=[0.7, 0.3], specs=[[{'colspan': 2}, {}],[{},{}]]))\n",
    "\n",
    "fig.add_trace(go.Scatter(x=df_stacks[\"pca_0\"], y=df_stacks[\"pca_1\"], mode='markers', text=df_stacks[\"score\"], showlegend=False, marker=dict(\n",
    "    color=df_stacks[\"class\"], size=(df_stacks[\"pred\"] + 1)*5, colorscale='sunset', showscale=True, opacity=1, line=dict(color='red', width=1)\n",
    ")), row=1, col=1)\n",
    "fig.add_trace(go.Scatter(mode='markers', showlegend=False, marker=dict(showscale=True, size=10, cmin=np.min(x_v_p_np), cmax=np.max(x_v_p_np), colorscale='sunset', line=dict(color='red', width=1))), row=2, col=1)\n",
    "fig.add_trace(go.Scatter(mode='markers', marker=dict(color='LightSkyBlue', size=10), showlegend=False), row=2, col=1)\n",
    "fig.add_trace(go.Image(), row=2, col=2)\n",
    "\n",
    "fig.data[0].marker.showscale = True\n",
    "fig.data[0].marker.colorbar.y = 0.8\n",
    "fig.data[0].marker.colorbar.len = 0.5\n",
    "\n",
    "fig.data[1].marker.showscale = True\n",
    "fig.data[1].marker.colorbar.y = .2\n",
    "fig.data[1].marker.colorbar.len = 0.5\n",
    "\n",
    "fig.update_layout(\n",
    "    autosize=False,\n",
    "    width=1200,\n",
    "    height=800\n",
    ")\n",
    "\n",
    "current_idx = {\"idx\": 0, \"idx_f\": 0, \"img_np\": []}\n",
    "\n",
    "def update_study(trace, points, selector):\n",
    "    if points.trace_name == 'trace 0' and len(points.point_inds) > 0:\n",
    "        print(\"update_study\", points)\n",
    "        idx = points.point_inds[0]  \n",
    "        x_feat_idx = np.array(x_v_features_np[idx]).reshape(-1, 256)\n",
    "        x_feat_idx_pca = pca.transform(x_feat_idx)\n",
    "        print(x_feat_idx_pca.shape)\n",
    "#         scores_idx = np.array(scores[idx]).reshape(-1)\n",
    "#         weights_idx = np.array(weights[idx]).reshape(-1)\n",
    "        print(x_v_p_np.shape)\n",
    "        df_idx = pd.DataFrame({\n",
    "            \"pca_0\": x_feat_idx_pca[:,0],\n",
    "            \"pca_1\": x_feat_idx_pca[:,1],\n",
    "            \"pred\": np.array(np.argmax(x_v_p_np[idx], axis=1)).reshape(-1), \n",
    "            \"score\": np.array(x_s_np[idx]).reshape(-1)\n",
    "#             ,\n",
    "#             \"scores\": scores_idx,\n",
    "#             \"weights\": weights_idx\n",
    "            })\n",
    "\n",
    "        with fig.batch_update():\n",
    "            fig.data[1]['x'] = df_idx[\"pca_0\"]\n",
    "            fig.data[1]['y'] = df_idx[\"pca_1\"]\n",
    "            fig.data[1].marker.color = df_idx['pred']\n",
    "            fig.data[1].text = ['s: {:f}, p: {:f}'.format(s, p) for s, p in zip(df_idx['score'], df_idx['pred'])]\n",
    "#             fig.data[1].marker.cmin = np.max()\n",
    "#             fig.data[1].marker.cmax = 1\n",
    "            \n",
    "            fig.data[2]['x'] = [df_stacks.loc[idx][\"pca_0\"]]\n",
    "            fig.data[2]['y'] = [df_stacks.loc[idx][\"pca_1\"]]\n",
    "\n",
    "            current_idx[\"idx\"] = idx\n",
    "            \n",
    "            current_idx[\"img_np\"] = nrrd.read(os.path.join(\"/work/jprieto/data/remote/EGower/\", df_stacks.loc[idx][\"img\"]), index_order='C')[0]\n",
    "            \n",
    "fig.data[0].on_click(update_study)\n",
    "\n",
    "def update_img(trace, points, selector):\n",
    "    if points.trace_name == 'trace 1' and len(points.point_inds) > 0:\n",
    "        print('update_img', points)\n",
    "        idx_f = points.point_inds[0] \n",
    "        current_idx[\"idx_f\"] = idx_f\n",
    "        with fig.batch_update():\n",
    "#             fig.data[3]['z'] = current_idx[\"img_np\"][idx_f]\n",
    "            print(idx_f)\n",
    "            fig.data[3]['z'] = current_idx[\"img_np\"][idx_f]\n",
    "    \n",
    "fig.data[1].on_click(update_img)\n",
    "\n",
    "fig"
   ]
  },
  {
   "cell_type": "code",
   "execution_count": 10,
   "id": "3564e314-5e52-4e38-a9ed-012c296e10d8",
   "metadata": {},
   "outputs": [
    {
     "name": "stdout",
     "output_type": "stream",
     "text": [
      "(403, 2)\n",
      "(403, 16, 256)\n",
      "(403, 16, 1)\n",
      "(403, 16, 2)\n"
     ]
    }
   ],
   "source": [
    "csv_path_stacks = \"/work/jprieto/data/remote/EGower/jprieto/trachoma_normals_healthy_sev123_05182021_stack_16_544_10082021_test.csv\"\n",
    "\n",
    "df_stacks = pd.read_csv(csv_path_stacks)\n",
    "df_stacks['class'] = (df_stacks['class'] >= 1).astype(int)\n",
    "\n",
    "output_dir = \"/work/jprieto/data/remote/EGower/jprieto/test_output/\"\n",
    "\n",
    "\n",
    "with open(os.path.join(output_dir, 'trachoma_normals_healthy_sev123_05182021_stack_16_544_10082021_test_10122021.pickle'), 'rb') as f:\n",
    "    results_stacks = pickle.load(f)\n",
    "\n",
    "pred_np, x_v_np, scores_np, x_v_pred_np = results_stacks\n",
    "    \n",
    "pred_np = np.array(pred_np)\n",
    "x_v_np = np.array(x_v_np)\n",
    "scores_np = np.array(scores_np)\n",
    "x_v_pred_np = np.array(x_v_pred_np)\n",
    "\n",
    "print(pred_np.shape)\n",
    "print(x_v_np.shape)\n",
    "print(scores_np.shape)\n",
    "print(x_v_pred_np.shape)"
   ]
  },
  {
   "cell_type": "code",
   "execution_count": 12,
   "id": "d60c28f4-3f4a-424c-a87a-5c3cdb9e20b0",
   "metadata": {},
   "outputs": [],
   "source": [
    "df_stacks[\"pred\"] = np.argmax(pred_np, axis=1)\n",
    "df_stacks[\"score\"] = np.max(scores_np, axis=1)\n",
    "csv_true_column = \"class\"\n",
    "csv_prediction_column = \"pred\"\n",
    "y_true_arr = [] \n",
    "y_pred_arr = []\n",
    "for idx, row in df_stacks.iterrows():\n",
    "  y_true_arr.append(row[csv_true_column])\n",
    "  y_pred_arr.append(row[csv_prediction_column])"
   ]
  },
  {
   "cell_type": "code",
   "execution_count": 13,
   "id": "2580dd52-e6b5-4132-98f9-ee432fd2ee3e",
   "metadata": {},
   "outputs": [
    {
     "name": "stdout",
     "output_type": "stream",
     "text": [
      "[[102   7]\n",
      " [ 37 257]]\n",
      "[[0.93577982 0.06422018]\n",
      " [0.12585034 0.87414966]]\n",
      "              precision    recall  f1-score   support\n",
      "\n",
      "           0       0.73      0.94      0.82       109\n",
      "           1       0.97      0.87      0.92       294\n",
      "\n",
      "    accuracy                           0.89       403\n",
      "   macro avg       0.85      0.90      0.87       403\n",
      "weighted avg       0.91      0.89      0.89       403\n",
      "\n"
     ]
    }
   ],
   "source": [
    "cnf_matrix = confusion_matrix(y_true_arr, y_pred_arr)\n",
    "print(cnf_matrix)\n",
    "cnf_matrix_norm = cnf_matrix.astype('float') / cnf_matrix.sum(axis=1)[:, np.newaxis]\n",
    "print(cnf_matrix_norm)\n",
    "print(classification_report(y_true_arr, y_pred_arr))"
   ]
  },
  {
   "cell_type": "code",
   "execution_count": 14,
   "id": "0dab4a85-62ca-4425-a66e-2d427b1bb984",
   "metadata": {},
   "outputs": [
    {
     "data": {
      "image/png": "[encoded data removed]",
      "text/plain": [
       "<Figure size 1080x720 with 2 Axes>"
      ]
     },
     "metadata": {
      "needs_background": "light"
     },
     "output_type": "display_data"
    }
   ],
   "source": [
    "plt.figure(figsize=[15,10])\n",
    "sns.heatmap(cnf_matrix_norm, annot=True, fmt='.2%', cmap='Blues')\n",
    "plt.show()"
   ]
  },
  {
   "cell_type": "code",
   "execution_count": null,
   "id": "a36d34bc-cabd-4a11-a231-4fbd0e672fc8",
   "metadata": {},
   "outputs": [],
   "source": []
  }
 ],
 "metadata": {
  "kernelspec": {
   "display_name": "Python 3 (ipykernel)",
   "language": "python",
   "name": "python3"
  },
  "language_info": {
   "codemirror_mode": {
    "name": "ipython",
    "version": 3
   },
   "file_extension": ".py",
   "mimetype": "text/x-python",
   "name": "python",
   "nbconvert_exporter": "python",
   "pygments_lexer": "ipython3",
   "version": "3.9.7"
  }
 },
 "nbformat": 4,
 "nbformat_minor": 5
}
