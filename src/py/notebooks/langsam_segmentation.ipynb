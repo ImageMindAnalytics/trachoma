{
 "cells": [
  {
   "cell_type": "code",
   "execution_count": 1,
   "metadata": {},
   "outputs": [],
   "source": [
    "import os \n",
    "os.environ[\"CUDA_VISIBLE_DEVICES\"] = \"3\" # put -1 to not use any"
   ]
  },
  {
   "cell_type": "code",
   "execution_count": 23,
   "metadata": {},
   "outputs": [],
   "source": [
    "import pickle\n",
    "import numpy as np\n",
    "import pandas as pd \n",
    "import os \n",
    "import matplotlib.pyplot as plt\n",
    "import cv2\n",
    "import torch\n",
    "import SimpleITK as sitk\n",
    "\n",
    "from  PIL  import  Image\n",
    "from lang_sam import LangSAM"
   ]
  },
  {
   "cell_type": "markdown",
   "metadata": {},
   "source": [
    "#### sort csv by True/Predictd segmentation ratio"
   ]
  },
  {
   "cell_type": "code",
   "execution_count": null,
   "metadata": {},
   "outputs": [],
   "source": [
    "def show_anns(anns):\n",
    "    if len(anns) == 0:\n",
    "        return\n",
    "    sorted_anns = sorted(anns, key=(lambda x: x['area']), reverse=True)\n",
    "    ax = plt.gca()\n",
    "    ax.set_autoscale_on(False)\n",
    "\n",
    "    img = np.ones((sorted_anns[0]['segmentation'].shape[0], sorted_anns[0]['segmentation'].shape[1], 4))\n",
    "    img[:,:,3] = 0\n",
    "    for ann in sorted_anns:\n",
    "        m = ann['segmentation']\n",
    "        color_mask = np.concatenate([np.random.random(3), [0.35]])\n",
    "        img[m] = color_mask\n",
    "    ax.imshow(img)"
   ]
  },
  {
   "cell_type": "markdown",
   "metadata": {},
   "source": [
    "#### Crop eye region with LangSam"
   ]
  },
  {
   "cell_type": "code",
   "execution_count": null,
   "metadata": {},
   "outputs": [],
   "source": [
    "CHECKPOINT_PATH='ckp/sam/sam_vit_h_4b8939.pth'\n",
    "DATA_DIR = 'B images one eye/B one eye 2870 onwards'\n",
    "\n",
    "\n",
    "device = torch.device('cuda:0' if torch.cuda.is_available() else 'cpu')\n",
    "model = LangSAM(ckpt_path = CHECKPOINT_PATH)"
   ]
  },
  {
   "cell_type": "code",
   "execution_count": null,
   "metadata": {},
   "outputs": [],
   "source": [
    "targets = []\n",
    "crop_list = []\n",
    "box_list = []\n",
    "\n",
    "for img_name in os.listdir(DATA_DIR):\n",
    "    \n",
    "    img_path = os.path.join(DATA_DIR, img_name)\n",
    "    targets.append(img_path)\n",
    "\n",
    "save_dir = os.path.join(targets[0].split('B one eye 2870 onwards')[0], 'crop_mask')\n",
    "\n",
    "i=0\n",
    "text_prompt = 'eye'\n",
    "\n",
    "for t in targets:\n",
    "    print(f\"Processing '{t}' : idx {i} / {len(targets)}\")\n",
    "    i+=1\n",
    "    name = os.path.basename(t)\n",
    "\n",
    "    np_im = cv2.imread(t)\n",
    "    np_im = cv2.cvtColor(np_im, cv2.COLOR_BGR2RGB)\n",
    "\n",
    "    h,w = np_im.shape[:2] \n",
    "\n",
    "    if np_im is None:\n",
    "        print(f\"Could not load '{t}' as an image, skipping...\")\n",
    "        continue\n",
    "    out_path = os.path.join(save_dir, name)    \n",
    "    im = Image.open(t)\n",
    "    \n",
    "    masks, boxes, labels, logits = model.predict(im, text_prompt)\n",
    "    \n",
    "    mask = masks[0]\n",
    "    box = boxes[0]\n",
    "    \n",
    "    xmin,ymin, xmax, ymax = int(box[0].numpy()) -5, int(box[1].numpy()) -5 , int(box[2].numpy())+5 , int(box[3].numpy())+5\n",
    "    \n",
    "    \n",
    "    cropped_img = np_im[ymin:ymax, xmin:xmax]\n",
    "\n",
    "    crop_list.append(out_path)\n",
    "    box_list.append(np.array([xmin, ymin, xmax, ymax]))\n",
    "\n",
    "\n",
    "    cv2.imwrite(out_path,cropped_img)\n",
    "    \n",
    "    # plt.imshow(cropped_img)\n",
    "    # plt.show()"
   ]
  },
  {
   "cell_type": "markdown",
   "metadata": {},
   "source": [
    "failing cases -  eye closed, segmented other thing (i.e. nose), segmented nose or segmented eye of person in background"
   ]
  },
  {
   "cell_type": "code",
   "execution_count": null,
   "metadata": {},
   "outputs": [],
   "source": [
    "df = pd.DataFrame(data={'img':targets, 'crop_img':crop_list, 'box':box_list})\n",
    "df.to_csv('new_B_cropped_list.csv')"
   ]
  }
 ],
 "metadata": {
  "kernelspec": {
   "display_name": "flyby",
   "language": "python",
   "name": "python3"
  },
  "language_info": {
   "codemirror_mode": {
    "name": "ipython",
    "version": 3
   },
   "file_extension": ".py",
   "mimetype": "text/x-python",
   "name": "python",
   "nbconvert_exporter": "python",
   "pygments_lexer": "ipython3",
   "version": "3.9.13"
  }
 },
 "nbformat": 4,
 "nbformat_minor": 2
}
